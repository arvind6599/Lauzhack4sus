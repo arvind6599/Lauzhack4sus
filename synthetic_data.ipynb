{
 "cells": [
  {
   "cell_type": "code",
   "execution_count": 80,
   "metadata": {
    "collapsed": true
   },
   "outputs": [],
   "source": [
    "import airportsdata\n",
    "import pycountry_convert as pc\n",
    "import numpy as np\n",
    "import pandas as pd"
   ]
  },
  {
   "cell_type": "code",
   "execution_count": 81,
   "outputs": [
    {
     "name": "stdout",
     "output_type": "stream",
     "text": [
      "  Assigned airport  # Flights  CO2 RFI2.7 (t) Country Continent\n",
      "0              AAL   0.000115         0.05000      DK        EU\n",
      "1              AAR   0.000230         0.05000      DK        EU\n",
      "2              ABJ   0.001209         1.07619      CI        AF\n",
      "3              ABQ   0.000288         0.30000      US        NA\n",
      "4              ABZ   0.000058         0.20000      GB        EU\n"
     ]
    }
   ],
   "source": [
    "flight_emission_df = pd.read_csv('./data/flight_emission_data.txt', header=0)\n",
    "flight_emission_df.head()\n",
    "\n",
    "airports = airportsdata.load('IATA')\n",
    "flight_emission_df['Country'] = flight_emission_df['Assigned airport'].map(\n",
    "    lambda x: np.nan if x not in airports.keys() else airports[x]['country']\n",
    ")\n",
    "flight_emission_df = flight_emission_df.dropna()\n",
    "\n",
    "flight_emission_df['Continent'] = flight_emission_df['Country'].map(\n",
    "    lambda x: pc.country_alpha2_to_continent_code(x)\n",
    ")\n",
    "\n",
    "flight_emission_df['CO2 RFI2.7 (t)'] /= flight_emission_df['# Flights']\n",
    "flight_emission_df['# Flights'] /= np.sum(flight_emission_df['# Flights'])\n",
    "\n",
    "print(flight_emission_df.head())"
   ],
   "metadata": {
    "collapsed": false
   }
  },
  {
   "cell_type": "code",
   "execution_count": 82,
   "outputs": [],
   "source": [
    "import datetime\n",
    "\n",
    "num_researchers = 3000\n",
    "\n",
    "num_choices = np.random.binomial(8, 0.3, num_researchers)\n",
    "\n",
    "simulated_flight_df = {\n",
    "    'researcher_id': [],\n",
    "    'travel_type': [],\n",
    "    'month': [],\n",
    "    'country': [],\n",
    "    'continent': [],\n",
    "    'emission': []\n",
    "}\n",
    "\n",
    "months = [\n",
    "     datetime.datetime(2023, i, 1, 0, 0, 0, 0) for i in range(1, 13)\n",
    "]\n",
    "\n",
    "for i in range(num_researchers):\n",
    "    choice_idxs = np.random.choice(np.arange(len(flight_emission_df)), size=num_choices[i], replace=True,\n",
    "                                   p=flight_emission_df['# Flights'].to_numpy())\n",
    "    for idx in choice_idxs:\n",
    "        continent = flight_emission_df.iloc[idx]['Continent']\n",
    "        travel_type = 'Train' if np.random.uniform(0, 1) < 0.2 and continent == 'EU' else 'Flight'\n",
    "        emission = flight_emission_df.iloc[idx]['CO2 RFI2.7 (t)'] * 1000\n",
    "        if travel_type == 'Train':\n",
    "            emission /= 9.8\n",
    "\n",
    "        simulated_flight_df['researcher_id'].append(i)\n",
    "        simulated_flight_df['travel_type'].append(travel_type)\n",
    "        simulated_flight_df['month'].append(np.random.choice(months))\n",
    "        simulated_flight_df['country'].append(flight_emission_df.iloc[idx]['Country'])\n",
    "        simulated_flight_df['continent'].append(continent)\n",
    "        simulated_flight_df['emission'].append(emission)\n",
    "\n",
    "simulated_flight_df = pd.DataFrame(simulated_flight_df)"
   ],
   "metadata": {
    "collapsed": false
   }
  },
  {
   "cell_type": "code",
   "execution_count": 83,
   "outputs": [],
   "source": [
    "simulated_flight_df.to_csv('./data/synthetic_emission_data.csv', index=False)"
   ],
   "metadata": {
    "collapsed": false
   }
  }
 ],
 "metadata": {
  "kernelspec": {
   "display_name": "Python 3",
   "language": "python",
   "name": "python3"
  },
  "language_info": {
   "codemirror_mode": {
    "name": "ipython",
    "version": 2
   },
   "file_extension": ".py",
   "mimetype": "text/x-python",
   "name": "python",
   "nbconvert_exporter": "python",
   "pygments_lexer": "ipython2",
   "version": "2.7.6"
  }
 },
 "nbformat": 4,
 "nbformat_minor": 0
}
